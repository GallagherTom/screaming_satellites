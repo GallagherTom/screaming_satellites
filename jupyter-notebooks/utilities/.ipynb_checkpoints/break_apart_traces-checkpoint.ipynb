{
 "cells": [
  {
   "cell_type": "markdown",
   "metadata": {},
   "source": [
    "# Break Aggregated Trace into Individual Traces\n",
    "**WARNING: This Notebook alters the Traces in the configured directory**\n",
    "\n",
    "This script allows a single long capture of many traces to be broken out into individual traces so they can be processed as if they were collected individually. \n",
    "\n",
    "The collection process used for the CC1111 captures multiple cryptographic processes into a single trace. This script is used to break that capture into individual traces. \n",
    "\n",
    "As this notebook alters files on the disk, you should make sure you understand the assumptions accept the risk. Always back up your data before running a disk altering script. "
   ]
  },
  {
   "cell_type": "code",
   "execution_count": null,
   "metadata": {},
   "outputs": [],
   "source": [
    "import os, random, gc\n",
    "import scipy.io\n",
    "from scipy.stats import pearsonr\n",
    "import numpy as np\n",
    "import matplotlib.pyplot as plt\n",
    "from tqdm import tqdm #progress bar for visualization of progress\n"
   ]
  },
  {
   "cell_type": "code",
   "execution_count": null,
   "metadata": {},
   "outputs": [],
   "source": [
    "dir = \"test-20231124-134804-e5-wio\"\n",
    "\n",
    "try:\n",
    "    traces_orig = np.load(dir+\"/all_traces.npy\", mmap_mode=\"r\")\n",
    "except Exception as exep:\n",
    "    print(exep) \n",
    "\n",
    "print(len(traces_orig))"
   ]
  },
  {
   "cell_type": "code",
   "execution_count": null,
   "metadata": {},
   "outputs": [],
   "source": [
    "plt.plot(np.absolute(traces_orig[3000000:4000000]))\n",
    "plt.show()"
   ]
  },
  {
   "cell_type": "code",
   "execution_count": null,
   "metadata": {},
   "outputs": [],
   "source": [
    "# Select a value that is higher than the normal transmit but within the spike at the end of the transmit period\n",
    "spike_height_trigger = 0.08\n",
    "allowed_gap_in_spike = 1000 #number of samples that can drop below the threshold before declaring a new spike\n",
    "\n",
    "spike_ends = []\n",
    "spike_end = -1\n",
    "for counter in tqdm(range(len(traces_orig))):\n",
    "    data = np.absolute(traces_orig[counter])\n",
    "    if(data > spike_height_trigger):\n",
    "        if(spike_end != -1 and counter > (spike_end + allowed_gap_in_spike)):\n",
    "            spike_ends.append(spike_end)\n",
    "        spike_end = counter"
   ]
  },
  {
   "cell_type": "code",
   "execution_count": null,
   "metadata": {},
   "outputs": [],
   "source": [
    "#Use the percentiles of the lengths to get an idea of the real length of a cycle\n",
    "\n",
    "lengths = []\n",
    "last_spike = -1\n",
    "for spike in spike_ends:\n",
    "    if last_spike != -1:\n",
    "        lengths.append(spike - last_spike)\n",
    "    last_spike = spike\n",
    "for i in range(100):\n",
    "    print(\"Percentile \"+str(i)+\" is \"+str(np.percentile(lengths, i)))"
   ]
  },
  {
   "cell_type": "code",
   "execution_count": null,
   "metadata": {},
   "outputs": [],
   "source": [
    "traces = {}\n",
    "lengths = []\n",
    "for i in tqdm(range(len(spike_ends)-1)):\n",
    "    segment_start = spike_ends[i]\n",
    "    segment_end = spike_ends[i+1]-1\n",
    "    traces[i+1] = traces_orig[segment_start:segment_end]\n",
    "    lengths.append(len(traces[i+1]))\n",
    "\n",
    "median_length = np.median(lengths)\n",
    "\n",
    "smallest_length = -1\n",
    "for k, i in tqdm(traces.items()):\n",
    "    if (len(i) < median_length * 0.9 or len(i) > median_length *1.1):\n",
    "        del traces[k]\n",
    "    elif (smallest_length == -1 or len(i) < smallest_length):\n",
    "            smallest_length = len(i)\n",
    "\n",
    "for k, i in tqdm(traces.items()):\n",
    "    traces[k] = i[0:smallest_length]\n",
    "    \n",
    "    "
   ]
  },
  {
   "cell_type": "code",
   "execution_count": null,
   "metadata": {},
   "outputs": [],
   "source": [
    "\n",
    "\n",
    "plt.figure(figsize=(14,2))\n",
    "plt.plot(np.absolute(traces[1]))\n",
    "plt.xlabel('Time sample')\n",
    "plt.ylabel('Signal Power')\n",
    "plt.show()\n",
    "\n",
    "plt.figure(figsize=(14,2))\n",
    "plt.plot(np.absolute(traces[int(len(traces)/2)]))\n",
    "plt.xlabel('Time sample')\n",
    "plt.ylabel('Signal Power')\n",
    "plt.show()\n",
    "\n",
    "plt.figure(figsize=(14,2))\n",
    "plt.plot(np.absolute(traces[int(3 * len(traces)/4)]))\n",
    "plt.xlabel('Time sample')\n",
    "plt.ylabel('Signal Power')\n",
    "plt.show()\n",
    "\n"
   ]
  },
  {
   "cell_type": "code",
   "execution_count": null,
   "metadata": {},
   "outputs": [],
   "source": [
    "initial_cutoff = 42000\n",
    "\n",
    "for k, i in tqdm(traces.items()):\n",
    "    traces[k] = np.absolute(i[initial_cutoff:])\n",
    "    np.save(dir+\"/output/trace_\"+str(k)+\".npy\", traces[k])\n",
    "\n",
    "\n",
    "plt.figure(figsize=(14,2))\n",
    "plt.plot(np.absolute(traces[1]))\n",
    "plt.xlabel('Time sample')\n",
    "plt.ylabel('Signal Power')\n",
    "plt.show()\n",
    "\n",
    "plt.figure(figsize=(14,2))\n",
    "plt.plot(np.absolute(traces[int(len(traces)/2)]))\n",
    "plt.xlabel('Time sample')\n",
    "plt.ylabel('Signal Power')\n",
    "plt.show()\n",
    "\n",
    "plt.figure(figsize=(14,2))\n",
    "plt.plot(np.absolute(traces[int(3 * len(traces)/4)]))\n",
    "plt.xlabel('Time sample')\n",
    "plt.ylabel('Signal Power')\n",
    "plt.show()"
   ]
  },
  {
   "cell_type": "code",
   "execution_count": null,
   "metadata": {},
   "outputs": [],
   "source": []
  }
 ],
 "metadata": {
  "kernelspec": {
   "display_name": "Python 3 (ipykernel)",
   "language": "python",
   "name": "python3"
  },
  "language_info": {
   "codemirror_mode": {
    "name": "ipython",
    "version": 3
   },
   "file_extension": ".py",
   "mimetype": "text/x-python",
   "name": "python",
   "nbconvert_exporter": "python",
   "pygments_lexer": "ipython3",
   "version": "3.12.0"
  }
 },
 "nbformat": 4,
 "nbformat_minor": 4
}

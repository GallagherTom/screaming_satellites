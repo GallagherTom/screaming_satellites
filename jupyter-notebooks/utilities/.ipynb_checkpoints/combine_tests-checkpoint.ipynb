{
 "cells": [
  {
   "cell_type": "markdown",
   "metadata": {},
   "source": [
    "# Combine Traces with the Same Configuration\n",
    "**WARNING: This Notebook alters the Traces in the configured directory**\n",
    "\n",
    "This script allows traces from different runs to be aggregated if the configuration for the run is the same (it checks). Due to external factors (overheating, power loss, finicky hardware), it is possible for long trace runs to error out. Rather than lose that data, this script can combine it with another run essentially providing continuity for the run. \n",
    "\n",
    "As this notebook alters files on the disk, you should make sure you understand the assumptions accept the risk. Always back up your data before running a disk altering script. "
   ]
  },
  {
   "cell_type": "code",
   "execution_count": 3,
   "metadata": {},
   "outputs": [
    {
     "name": "stderr",
     "output_type": "stream",
     "text": [
      "Loading files: 100%|████████████████████| 7189/7189 [00:00<00:00, 579940.60it/s]\n"
     ]
    },
    {
     "name": "stdout",
     "output_type": "stream",
     "text": [
      "7186\n"
     ]
    },
    {
     "name": "stderr",
     "output_type": "stream",
     "text": [
      "Moving files: 100%|████████████████████████| 3809/3809 [00:24<00:00, 158.60it/s]\n"
     ]
    }
   ],
   "source": [
    "import os\n",
    "from tqdm import tqdm\n",
    "\n",
    "I_UNDERSTAND_THAT_THIS_SCRIPT_WILL_ALTER_FILES_ON_DISK = False #Change to True to proceed\n",
    "\n",
    "dir1 = \"../Final-Traces/cc1310-fixed-key/test-20231123-142932/\"\n",
    "config1 = \"cc1310-fixed-key-fixed-pt.json\"\n",
    "dir2 = \"../Final-Traces/cc1310-fixed-key/test-20231123-164342/\"\n",
    "config2 = \"cc1310-fixed-key-fixed-pt.json\"\n",
    "\n",
    "\n",
    "FIXED_KEY = True\n",
    "FIXED_PT = True\n",
    "LIMIT_TRACES = 10000\n",
    "\n",
    "\n",
    "dir1_path = dir1+\"output/\"\n",
    "dir2_path = dir2+\"output/\"\n",
    "\n",
    "\n",
    "if(not I_UNDERSTAND_THAT_THIS_SCRIPT_WILL_ALTER_FILES_ON_DISK):\n",
    "    raise(\"Must change this variable to true to acknowledge that data on disk will be changed\")\n",
    "\n",
    "#check that configs are the same\n",
    "with open(dir1+config1) as f: c1 = f.read()\n",
    "f.close()\n",
    "with open(dir2+config2) as f: c2 = f.read()\n",
    "f.close()\n",
    "if not(c1 == c2):\n",
    "    raise Exception(\"Traces use different configs. Cannot combine\")\n",
    "\n",
    "\n",
    "\n",
    "def sorted_ls(path):\n",
    "    mtime = lambda f: os.stat(os.path.join(path, f)).st_mtime\n",
    "    return list(sorted(os.listdir(path), key=mtime))\n",
    "\n",
    "dir1_highest = 0\n",
    "dir1_list = sorted_ls(dir1_path)\n",
    "for filename in tqdm(dir1_list, desc=\"Loading files\"):\n",
    "    if '.npy' in filename:\n",
    "        trace_index = int(''.join(c for c in filename if c.isdigit()))\n",
    "        dir1_highest = max(trace_index, dir1_highest)\n",
    "\n",
    "with open(dir2_path+\"key_.txt\") as keys_text:\n",
    "    keys2 = keys_text.readlines()\n",
    "for k, v in enumerate(keys2):\n",
    "    keys2[k] = v.strip()\n",
    "\n",
    "with open(dir2_path+\"pt_.txt\") as pt_text:\n",
    "    pt2 = pt_text.readlines()\n",
    "for k, v in enumerate(pt2):\n",
    "    pt2[k] = v.strip()\n",
    "\n",
    "\n",
    "\n",
    "with open(dir1_path+\"pt_.txt\", \"a\") as pts:\n",
    "    with open(dir1_path+\"key_.txt\", \"a\") as keys:\n",
    "        counter = 1\n",
    "        dir2_list = sorted_ls(dir2_path)\n",
    "        for filename in tqdm(dir2_list, desc=\"Moving files\"):\n",
    "            if '.npy' in filename:\n",
    "                trace_index = int(''.join(c for c in filename if c.isdigit()))\n",
    "                new_index = dir1_highest + counter\n",
    "                os.system(\"mv '\"+dir2_path+filename+\"' '\"+dir1_path+\"trace__\"+str(new_index)+\".npy'\")\n",
    "                if not FIXED_KEY:\n",
    "                    keys.write(\"\\n\"+keys2[trace_index])\n",
    "                if not FIXED_PT:\n",
    "                    pts.write(\"\\n\"+pt2[trace_index])\n",
    "                counter += 1\n",
    "    \n"
   ]
  }
 ],
 "metadata": {
  "kernelspec": {
   "display_name": "Python 3 (ipykernel)",
   "language": "python",
   "name": "python3"
  },
  "language_info": {
   "codemirror_mode": {
    "name": "ipython",
    "version": 3
   },
   "file_extension": ".py",
   "mimetype": "text/x-python",
   "name": "python",
   "nbconvert_exporter": "python",
   "pygments_lexer": "ipython3",
   "version": "3.12.0"
  }
 },
 "nbformat": 4,
 "nbformat_minor": 4
}
